{
 "cells": [
  {
   "cell_type": "code",
   "execution_count": 68,
   "metadata": {},
   "outputs": [],
   "source": [
    "import numpy as np\n",
    "import pandas as pd\n",
    "import ast\n",
    "from gensim.models import Word2Vec\n",
    "from sklearn.ensemble import RandomForestClassifier\n",
    "from sklearn.model_selection import train_test_split\n",
    "from sklearn.decomposition import TruncatedSVD\n",
    "from sklearn.metrics.pairwise import cosine_similarity\n",
    "from sklearn.feature_extraction.text import CountVectorizer\n",
    "\n",
    "import numpy as np\n",
    "import pandas as pd\n",
    "import ast\n",
    "from gensim.models import Word2Vec"
   ]
  },
  {
   "cell_type": "code",
   "execution_count": 69,
   "metadata": {},
   "outputs": [],
   "source": [
    "credits_data = pd.read_csv(\"C:/Users/srina/Documents/Machine learning/Project/credits.csv\")\n",
    "movies_data = pd.read_csv(\"C:/Users/srina/Documents/Machine learning/Project/updated_movies.csv\")\n",
    "users_data = pd.read_csv(\"C:/Users/srina/Documents/Machine learning/Project/user1.csv\")"
   ]
  },
  {
   "cell_type": "code",
   "execution_count": 70,
   "metadata": {},
   "outputs": [],
   "source": [
    "combined_movie_data = movies_data.merge(credits_data, on='title')\n",
    "combined_movie_data = combined_movie_data[['movie_id', 'title', 'overview', 'genres', 'keywords', 'cast', 'crew', 'emotion']]"
   ]
  },
  {
   "cell_type": "code",
   "execution_count": 71,
   "metadata": {},
   "outputs": [
    {
     "data": {
      "text/html": [
       "<div>\n",
       "<style scoped>\n",
       "    .dataframe tbody tr th:only-of-type {\n",
       "        vertical-align: middle;\n",
       "    }\n",
       "\n",
       "    .dataframe tbody tr th {\n",
       "        vertical-align: top;\n",
       "    }\n",
       "\n",
       "    .dataframe thead th {\n",
       "        text-align: right;\n",
       "    }\n",
       "</style>\n",
       "<table border=\"1\" class=\"dataframe\">\n",
       "  <thead>\n",
       "    <tr style=\"text-align: right;\">\n",
       "      <th></th>\n",
       "      <th>movie_id</th>\n",
       "      <th>title</th>\n",
       "      <th>overview</th>\n",
       "      <th>genres</th>\n",
       "      <th>keywords</th>\n",
       "      <th>cast</th>\n",
       "      <th>crew</th>\n",
       "      <th>emotion</th>\n",
       "    </tr>\n",
       "  </thead>\n",
       "  <tbody>\n",
       "    <tr>\n",
       "      <th>0</th>\n",
       "      <td>19995</td>\n",
       "      <td>Avatar</td>\n",
       "      <td>In the 22nd century, a paraplegic Marine is di...</td>\n",
       "      <td>[{\"id\": 28, \"name\": \"Action\"}, {\"id\": 12, \"nam...</td>\n",
       "      <td>[{\"id\": 1463, \"name\": \"culture clash\"}, {\"id\":...</td>\n",
       "      <td>[{\"cast_id\": 242, \"character\": \"Jake Sully\", \"...</td>\n",
       "      <td>[{\"credit_id\": \"52fe48009251416c750aca23\", \"de...</td>\n",
       "      <td>Joy</td>\n",
       "    </tr>\n",
       "    <tr>\n",
       "      <th>1</th>\n",
       "      <td>285</td>\n",
       "      <td>Pirates of the Caribbean: At World's End</td>\n",
       "      <td>Captain Barbossa, long believed to be dead, ha...</td>\n",
       "      <td>[{\"id\": 12, \"name\": \"Adventure\"}, {\"id\": 14, \"...</td>\n",
       "      <td>[{\"id\": 270, \"name\": \"ocean\"}, {\"id\": 726, \"na...</td>\n",
       "      <td>[{\"cast_id\": 4, \"character\": \"Captain Jack Spa...</td>\n",
       "      <td>[{\"credit_id\": \"52fe4232c3a36847f800b579\", \"de...</td>\n",
       "      <td>Disgust</td>\n",
       "    </tr>\n",
       "    <tr>\n",
       "      <th>2</th>\n",
       "      <td>206647</td>\n",
       "      <td>Spectre</td>\n",
       "      <td>A cryptic message from Bond’s past sends him o...</td>\n",
       "      <td>[{\"id\": 28, \"name\": \"Action\"}, {\"id\": 12, \"nam...</td>\n",
       "      <td>[{\"id\": 470, \"name\": \"spy\"}, {\"id\": 818, \"name...</td>\n",
       "      <td>[{\"cast_id\": 1, \"character\": \"James Bond\", \"cr...</td>\n",
       "      <td>[{\"credit_id\": \"54805967c3a36829b5002c41\", \"de...</td>\n",
       "      <td>Sadness</td>\n",
       "    </tr>\n",
       "    <tr>\n",
       "      <th>3</th>\n",
       "      <td>49026</td>\n",
       "      <td>The Dark Knight Rises</td>\n",
       "      <td>Following the death of District Attorney Harve...</td>\n",
       "      <td>[{\"id\": 28, \"name\": \"Action\"}, {\"id\": 80, \"nam...</td>\n",
       "      <td>[{\"id\": 849, \"name\": \"dc comics\"}, {\"id\": 853,...</td>\n",
       "      <td>[{\"cast_id\": 2, \"character\": \"Bruce Wayne / Ba...</td>\n",
       "      <td>[{\"credit_id\": \"52fe4781c3a36847f81398c3\", \"de...</td>\n",
       "      <td>Inspiration</td>\n",
       "    </tr>\n",
       "    <tr>\n",
       "      <th>4</th>\n",
       "      <td>49529</td>\n",
       "      <td>John Carter</td>\n",
       "      <td>John Carter is a war-weary, former military ca...</td>\n",
       "      <td>[{\"id\": 28, \"name\": \"Action\"}, {\"id\": 12, \"nam...</td>\n",
       "      <td>[{\"id\": 818, \"name\": \"based on novel\"}, {\"id\":...</td>\n",
       "      <td>[{\"cast_id\": 5, \"character\": \"John Carter\", \"c...</td>\n",
       "      <td>[{\"credit_id\": \"52fe479ac3a36847f813eaa3\", \"de...</td>\n",
       "      <td>Joy</td>\n",
       "    </tr>\n",
       "  </tbody>\n",
       "</table>\n",
       "</div>"
      ],
      "text/plain": [
       "   movie_id                                     title  \\\n",
       "0     19995                                    Avatar   \n",
       "1       285  Pirates of the Caribbean: At World's End   \n",
       "2    206647                                   Spectre   \n",
       "3     49026                     The Dark Knight Rises   \n",
       "4     49529                               John Carter   \n",
       "\n",
       "                                            overview  \\\n",
       "0  In the 22nd century, a paraplegic Marine is di...   \n",
       "1  Captain Barbossa, long believed to be dead, ha...   \n",
       "2  A cryptic message from Bond’s past sends him o...   \n",
       "3  Following the death of District Attorney Harve...   \n",
       "4  John Carter is a war-weary, former military ca...   \n",
       "\n",
       "                                              genres  \\\n",
       "0  [{\"id\": 28, \"name\": \"Action\"}, {\"id\": 12, \"nam...   \n",
       "1  [{\"id\": 12, \"name\": \"Adventure\"}, {\"id\": 14, \"...   \n",
       "2  [{\"id\": 28, \"name\": \"Action\"}, {\"id\": 12, \"nam...   \n",
       "3  [{\"id\": 28, \"name\": \"Action\"}, {\"id\": 80, \"nam...   \n",
       "4  [{\"id\": 28, \"name\": \"Action\"}, {\"id\": 12, \"nam...   \n",
       "\n",
       "                                            keywords  \\\n",
       "0  [{\"id\": 1463, \"name\": \"culture clash\"}, {\"id\":...   \n",
       "1  [{\"id\": 270, \"name\": \"ocean\"}, {\"id\": 726, \"na...   \n",
       "2  [{\"id\": 470, \"name\": \"spy\"}, {\"id\": 818, \"name...   \n",
       "3  [{\"id\": 849, \"name\": \"dc comics\"}, {\"id\": 853,...   \n",
       "4  [{\"id\": 818, \"name\": \"based on novel\"}, {\"id\":...   \n",
       "\n",
       "                                                cast  \\\n",
       "0  [{\"cast_id\": 242, \"character\": \"Jake Sully\", \"...   \n",
       "1  [{\"cast_id\": 4, \"character\": \"Captain Jack Spa...   \n",
       "2  [{\"cast_id\": 1, \"character\": \"James Bond\", \"cr...   \n",
       "3  [{\"cast_id\": 2, \"character\": \"Bruce Wayne / Ba...   \n",
       "4  [{\"cast_id\": 5, \"character\": \"John Carter\", \"c...   \n",
       "\n",
       "                                                crew      emotion  \n",
       "0  [{\"credit_id\": \"52fe48009251416c750aca23\", \"de...          Joy  \n",
       "1  [{\"credit_id\": \"52fe4232c3a36847f800b579\", \"de...      Disgust  \n",
       "2  [{\"credit_id\": \"54805967c3a36829b5002c41\", \"de...      Sadness  \n",
       "3  [{\"credit_id\": \"52fe4781c3a36847f81398c3\", \"de...  Inspiration  \n",
       "4  [{\"credit_id\": \"52fe479ac3a36847f813eaa3\", \"de...          Joy  "
      ]
     },
     "execution_count": 71,
     "metadata": {},
     "output_type": "execute_result"
    }
   ],
   "source": [
    "combined_movie_data.head()"
   ]
  },
  {
   "cell_type": "code",
   "execution_count": 72,
   "metadata": {},
   "outputs": [
    {
     "data": {
      "text/html": [
       "<div>\n",
       "<style scoped>\n",
       "    .dataframe tbody tr th:only-of-type {\n",
       "        vertical-align: middle;\n",
       "    }\n",
       "\n",
       "    .dataframe tbody tr th {\n",
       "        vertical-align: top;\n",
       "    }\n",
       "\n",
       "    .dataframe thead th {\n",
       "        text-align: right;\n",
       "    }\n",
       "</style>\n",
       "<table border=\"1\" class=\"dataframe\">\n",
       "  <thead>\n",
       "    <tr style=\"text-align: right;\">\n",
       "      <th></th>\n",
       "      <th>user_id</th>\n",
       "      <th>movie_id</th>\n",
       "      <th>rating</th>\n",
       "    </tr>\n",
       "  </thead>\n",
       "  <tbody>\n",
       "    <tr>\n",
       "      <th>0</th>\n",
       "      <td>user_id_1</td>\n",
       "      <td>19995</td>\n",
       "      <td>3</td>\n",
       "    </tr>\n",
       "    <tr>\n",
       "      <th>1</th>\n",
       "      <td>user_id_1</td>\n",
       "      <td>285</td>\n",
       "      <td>2</td>\n",
       "    </tr>\n",
       "    <tr>\n",
       "      <th>2</th>\n",
       "      <td>user_id_1</td>\n",
       "      <td>206647</td>\n",
       "      <td>3</td>\n",
       "    </tr>\n",
       "    <tr>\n",
       "      <th>3</th>\n",
       "      <td>user_id_1</td>\n",
       "      <td>49026</td>\n",
       "      <td>5</td>\n",
       "    </tr>\n",
       "    <tr>\n",
       "      <th>4</th>\n",
       "      <td>user_id_1</td>\n",
       "      <td>49529</td>\n",
       "      <td>3</td>\n",
       "    </tr>\n",
       "  </tbody>\n",
       "</table>\n",
       "</div>"
      ],
      "text/plain": [
       "     user_id  movie_id  rating\n",
       "0  user_id_1     19995       3\n",
       "1  user_id_1       285       2\n",
       "2  user_id_1    206647       3\n",
       "3  user_id_1     49026       5\n",
       "4  user_id_1     49529       3"
      ]
     },
     "execution_count": 72,
     "metadata": {},
     "output_type": "execute_result"
    }
   ],
   "source": [
    "users_data.head()"
   ]
  },
  {
   "cell_type": "code",
   "execution_count": 73,
   "metadata": {},
   "outputs": [],
   "source": [
    "def parse_and_extract_names(stringified_list):\n",
    "    extracted_names = []\n",
    "    for item in ast.literal_eval(stringified_list):\n",
    "        extracted_names.append(item['name'])\n",
    "    return extracted_names"
   ]
  },
  {
   "cell_type": "code",
   "execution_count": 74,
   "metadata": {},
   "outputs": [],
   "source": [
    "combined_movie_data.dropna(inplace=True)\n",
    "combined_movie_data['genres'] = combined_movie_data['genres'].apply(parse_and_extract_names)\n",
    "combined_movie_data['keywords'] = combined_movie_data['keywords'].apply(parse_and_extract_names)"
   ]
  },
  {
   "cell_type": "code",
   "execution_count": 75,
   "metadata": {},
   "outputs": [],
   "source": [
    "def extract_top_three_cast(stringified_list):\n",
    "    top_cast = []\n",
    "    for i, item in enumerate(ast.literal_eval(stringified_list)):\n",
    "        if i < 3:\n",
    "            top_cast.append(item['name'])\n",
    "    return top_cast"
   ]
  },
  {
   "cell_type": "code",
   "execution_count": 76,
   "metadata": {},
   "outputs": [],
   "source": [
    "combined_movie_data['cast'] = combined_movie_data['cast'].apply(extract_top_three_cast)\n"
   ]
  },
  {
   "cell_type": "code",
   "execution_count": 77,
   "metadata": {},
   "outputs": [],
   "source": [
    "def extract_director_name(directors_list):\n",
    "    for item in ast.literal_eval(directors_list):\n",
    "        if item['job'] == 'Director':\n",
    "            return [item['name']]\n",
    "    return []"
   ]
  },
  {
   "cell_type": "code",
   "execution_count": 78,
   "metadata": {},
   "outputs": [],
   "source": [
    "combined_movie_data['crew'] = combined_movie_data['crew'].apply(extract_director_name)"
   ]
  },
  {
   "cell_type": "code",
   "execution_count": 79,
   "metadata": {},
   "outputs": [],
   "source": [
    "combined_movie_data['overview'] = combined_movie_data['overview'].apply(lambda x: x.split())\n",
    "combined_movie_data['emotion'] = combined_movie_data['emotion'].apply(lambda x: x.lower().replace(\" \", \"\"))"
   ]
  },
  {
   "cell_type": "code",
   "execution_count": 80,
   "metadata": {},
   "outputs": [],
   "source": [
    "combined_movie_data['tags'] = combined_movie_data['overview'] + combined_movie_data['genres'] + combined_movie_data['keywords'] + combined_movie_data['cast'] + combined_movie_data['crew'] + combined_movie_data['emotion'].apply(lambda x: [x])\n",
    "combined_movie_data['tags'] = combined_movie_data['tags'].apply(lambda x: ' '.join(x))\n",
    "combined_movie_data = combined_movie_data.drop_duplicates(subset='title', keep='first')\n"
   ]
  },
  {
   "cell_type": "code",
   "execution_count": null,
   "metadata": {},
   "outputs": [],
   "source": [
    "combined_movie_data.head()"
   ]
  },
  {
   "cell_type": "code",
   "execution_count": 81,
   "metadata": {},
   "outputs": [],
   "source": [
    "combined_movie_data1 = combined_movie_data\n",
    "combined_movie_data2 = combined_movie_data \n",
    "users_data1 = users_data\n",
    "users_data2 = users_data\n"
   ]
  },
  {
   "cell_type": "markdown",
   "metadata": {},
   "source": [
    "**Content Based Filtereing**"
   ]
  },
  {
   "cell_type": "code",
   "execution_count": 82,
   "metadata": {},
   "outputs": [],
   "source": [
    "cv = CountVectorizer(max_features=5000, stop_words='english')\n",
    "vectors = cv.fit_transform(combined_movie_data1['tags']).toarray()\n",
    "\n",
    "# Dimensionality Reduction\n",
    "svd = TruncatedSVD(n_components=100, random_state=42)\n",
    "vectors = svd.fit_transform(vectors)"
   ]
  },
  {
   "cell_type": "code",
   "execution_count": 83,
   "metadata": {},
   "outputs": [],
   "source": [
    "# Filter the input user's movies based on the specified emotion\n",
    "\n",
    "def recommend_movies_based_on_emotion_rating_and_other_users(input_user_id, emotion, user_rating_threshold=4, n_movies=5):\n",
    "    \n",
    "    input_user_movies = users_data1[users_data1['user_id'] == input_user_id]\n",
    "    input_user_merged_movies = combined_movie_data1.merge(input_user_movies, on='movie_id')\n",
    "\n",
    "    input_user_emotion_movies = input_user_merged_movies[input_user_merged_movies['emotion'].str.lower() == emotion.lower()]\n",
    "\n",
    "    input_user_emotion_movies = input_user_emotion_movies[input_user_emotion_movies['rating'] >= user_rating_threshold]\n",
    "\n",
    "    input_user_emotion_movies['tags'] = input_user_emotion_movies['tags'].apply(lambda x: ' '.join(x) if isinstance(x, list) else x)\n",
    "\n",
    "    input_user_emotion_vectors = svd.transform(cv.transform(input_user_emotion_movies['tags']))\n",
    "\n",
    "    recommendations = []\n",
    "    for idx, emotion_vector in enumerate(input_user_emotion_vectors):\n",
    "        sim_scores = list(enumerate(cosine_similarity([emotion_vector], vectors)[0]))\n",
    "        sim_scores = sorted(sim_scores, key=lambda x: x[1], reverse=True)\n",
    "\n",
    "        for movie_idx, sim_score in sim_scores[1:]:\n",
    "            movie_id = combined_movie_data1.iloc[movie_idx]['movie_id']\n",
    "            other_users_ratings = users_data1[(users_data1['movie_id'] == movie_id) & (users_data1['user_id'] != input_user_id) & (users_data1['rating'] >= user_rating_threshold)]\n",
    "            \n",
    "            for _, user_rating in other_users_ratings.iterrows():\n",
    "                movie_emotion = combined_movie_data1.iloc[movie_idx]['emotion'].lower()\n",
    "                # Strictly add only those movies that exactly match the specified emotion\n",
    "                if movie_emotion == emotion.lower():\n",
    "                    recommendations.append((combined_movie_data1.iloc[movie_idx]['title'], sim_score, user_rating['user_id'], user_rating['rating']))\n",
    "\n",
    "    unique_recommendations = sorted(list(set(recommendations)), key=lambda x: x[1], reverse=True)[:n_movies]\n",
    "\n",
    "    return unique_recommendations\n"
   ]
  },
  {
   "cell_type": "code",
   "execution_count": 84,
   "metadata": {},
   "outputs": [
    {
     "name": "stdout",
     "output_type": "stream",
     "text": [
      "Movie: The Devil's Own ---------- Similarity percentage: 68.62%  ----------- Rating: 5\n",
      "Movie: Stonewall ---------- Similarity percentage: 65.31%  ----------- Rating: 4\n",
      "Movie: Blindness ---------- Similarity percentage: 63.02%  ----------- Rating: 5\n",
      "Movie: Charly ---------- Similarity percentage: 60.93%  ----------- Rating: 4\n",
      "Movie: The Cell ---------- Similarity percentage: 60.02%  ----------- Rating: 5\n"
     ]
    }
   ],
   "source": [
    "user_id = \"user_id_2\"  \n",
    "emotion = \"Anger\"  \n",
    "recommended_movies = recommend_movies_based_on_emotion_rating_and_other_users(user_id, emotion)\n",
    "\n",
    "\n",
    "for movie, sim_score, other_user_id, rating in recommended_movies:\n",
    "    print(f\"Movie: {movie} ---------- Similarity percentage: {sim_score*100:.2f}%  ----------- Rating: {rating}\")\n"
   ]
  },
  {
   "cell_type": "markdown",
   "metadata": {},
   "source": [
    "**Hybrid model(collaborative filtering with a predictive model)**"
   ]
  },
  {
   "cell_type": "code",
   "execution_count": 85,
   "metadata": {},
   "outputs": [],
   "source": [
    "#Converting categorial values to numerical values\n",
    "combined_movie_data2['tags'] = combined_movie_data2['tags'].apply(lambda x: x.split())\n",
    "word2vec_model = Word2Vec(combined_movie_data2['tags'], vector_size=100, window=5, min_count=2, workers=4)"
   ]
  },
  {
   "cell_type": "code",
   "execution_count": 86,
   "metadata": {},
   "outputs": [],
   "source": [
    "def create_movie_vector(words, model):\n",
    "    valid_words = [word for word in words if word in model.wv]\n",
    "    if not valid_words:\n",
    "        return np.zeros(model.vector_size)\n",
    "    word_vectors = np.array([model.wv[word] for word in valid_words])\n",
    "    vector = np.mean(word_vectors, axis=0)\n",
    "    return vector\n",
    "\n",
    "movie_id_to_vector = {movie_id: create_movie_vector(words, word2vec_model) for movie_id, words in zip(combined_movie_data2['movie_id'], combined_movie_data2['tags'])}"
   ]
  },
  {
   "cell_type": "code",
   "execution_count": 87,
   "metadata": {},
   "outputs": [],
   "source": [
    "#setting up training data\n",
    "average_ratings = users_data2.groupby('user_id')['rating'].mean()\n",
    "\n",
    "X = []\n",
    "y = []\n",
    "\n",
    "for _, row in users_data2.iterrows():\n",
    "    user_id = row['user_id']\n",
    "    movie_id = row['movie_id']\n",
    "    rating = row['rating']\n",
    "    \n",
    "    user_feature = np.array([average_ratings.get(user_id, 0), 0])  \n",
    "    if movie_id in movie_id_to_vector:\n",
    "        movie_feature = movie_id_to_vector[movie_id]\n",
    "        feature_vector = np.concatenate((user_feature, movie_feature))\n",
    "        X.append(feature_vector)\n",
    "        y.append(1 if rating >= 4 else 0)  \n",
    "\n",
    "X = np.array(X)\n",
    "y = np.array(y)\n",
    "\n"
   ]
  },
  {
   "cell_type": "code",
   "execution_count": 88,
   "metadata": {},
   "outputs": [
    {
     "data": {
      "text/html": [
       "<style>#sk-container-id-4 {color: black;}#sk-container-id-4 pre{padding: 0;}#sk-container-id-4 div.sk-toggleable {background-color: white;}#sk-container-id-4 label.sk-toggleable__label {cursor: pointer;display: block;width: 100%;margin-bottom: 0;padding: 0.3em;box-sizing: border-box;text-align: center;}#sk-container-id-4 label.sk-toggleable__label-arrow:before {content: \"▸\";float: left;margin-right: 0.25em;color: #696969;}#sk-container-id-4 label.sk-toggleable__label-arrow:hover:before {color: black;}#sk-container-id-4 div.sk-estimator:hover label.sk-toggleable__label-arrow:before {color: black;}#sk-container-id-4 div.sk-toggleable__content {max-height: 0;max-width: 0;overflow: hidden;text-align: left;background-color: #f0f8ff;}#sk-container-id-4 div.sk-toggleable__content pre {margin: 0.2em;color: black;border-radius: 0.25em;background-color: #f0f8ff;}#sk-container-id-4 input.sk-toggleable__control:checked~div.sk-toggleable__content {max-height: 200px;max-width: 100%;overflow: auto;}#sk-container-id-4 input.sk-toggleable__control:checked~label.sk-toggleable__label-arrow:before {content: \"▾\";}#sk-container-id-4 div.sk-estimator input.sk-toggleable__control:checked~label.sk-toggleable__label {background-color: #d4ebff;}#sk-container-id-4 div.sk-label input.sk-toggleable__control:checked~label.sk-toggleable__label {background-color: #d4ebff;}#sk-container-id-4 input.sk-hidden--visually {border: 0;clip: rect(1px 1px 1px 1px);clip: rect(1px, 1px, 1px, 1px);height: 1px;margin: -1px;overflow: hidden;padding: 0;position: absolute;width: 1px;}#sk-container-id-4 div.sk-estimator {font-family: monospace;background-color: #f0f8ff;border: 1px dotted black;border-radius: 0.25em;box-sizing: border-box;margin-bottom: 0.5em;}#sk-container-id-4 div.sk-estimator:hover {background-color: #d4ebff;}#sk-container-id-4 div.sk-parallel-item::after {content: \"\";width: 100%;border-bottom: 1px solid gray;flex-grow: 1;}#sk-container-id-4 div.sk-label:hover label.sk-toggleable__label {background-color: #d4ebff;}#sk-container-id-4 div.sk-serial::before {content: \"\";position: absolute;border-left: 1px solid gray;box-sizing: border-box;top: 0;bottom: 0;left: 50%;z-index: 0;}#sk-container-id-4 div.sk-serial {display: flex;flex-direction: column;align-items: center;background-color: white;padding-right: 0.2em;padding-left: 0.2em;position: relative;}#sk-container-id-4 div.sk-item {position: relative;z-index: 1;}#sk-container-id-4 div.sk-parallel {display: flex;align-items: stretch;justify-content: center;background-color: white;position: relative;}#sk-container-id-4 div.sk-item::before, #sk-container-id-4 div.sk-parallel-item::before {content: \"\";position: absolute;border-left: 1px solid gray;box-sizing: border-box;top: 0;bottom: 0;left: 50%;z-index: -1;}#sk-container-id-4 div.sk-parallel-item {display: flex;flex-direction: column;z-index: 1;position: relative;background-color: white;}#sk-container-id-4 div.sk-parallel-item:first-child::after {align-self: flex-end;width: 50%;}#sk-container-id-4 div.sk-parallel-item:last-child::after {align-self: flex-start;width: 50%;}#sk-container-id-4 div.sk-parallel-item:only-child::after {width: 0;}#sk-container-id-4 div.sk-dashed-wrapped {border: 1px dashed gray;margin: 0 0.4em 0.5em 0.4em;box-sizing: border-box;padding-bottom: 0.4em;background-color: white;}#sk-container-id-4 div.sk-label label {font-family: monospace;font-weight: bold;display: inline-block;line-height: 1.2em;}#sk-container-id-4 div.sk-label-container {text-align: center;}#sk-container-id-4 div.sk-container {/* jupyter's `normalize.less` sets `[hidden] { display: none; }` but bootstrap.min.css set `[hidden] { display: none !important; }` so we also need the `!important` here to be able to override the default hidden behavior on the sphinx rendered scikit-learn.org. See: https://github.com/scikit-learn/scikit-learn/issues/21755 */display: inline-block !important;position: relative;}#sk-container-id-4 div.sk-text-repr-fallback {display: none;}</style><div id=\"sk-container-id-4\" class=\"sk-top-container\"><div class=\"sk-text-repr-fallback\"><pre>RandomForestClassifier(random_state=42)</pre><b>In a Jupyter environment, please rerun this cell to show the HTML representation or trust the notebook. <br />On GitHub, the HTML representation is unable to render, please try loading this page with nbviewer.org.</b></div><div class=\"sk-container\" hidden><div class=\"sk-item\"><div class=\"sk-estimator sk-toggleable\"><input class=\"sk-toggleable__control sk-hidden--visually\" id=\"sk-estimator-id-4\" type=\"checkbox\" checked><label for=\"sk-estimator-id-4\" class=\"sk-toggleable__label sk-toggleable__label-arrow\">RandomForestClassifier</label><div class=\"sk-toggleable__content\"><pre>RandomForestClassifier(random_state=42)</pre></div></div></div></div></div>"
      ],
      "text/plain": [
       "RandomForestClassifier(random_state=42)"
      ]
     },
     "execution_count": 88,
     "metadata": {},
     "output_type": "execute_result"
    }
   ],
   "source": [
    "# Split the data for a RandomForest model\n",
    "X_train, X_test, y_train, y_test = train_test_split(X, y, test_size=0.2, random_state=42)\n",
    "model = RandomForestClassifier(n_estimators=100, random_state=42)\n",
    "model.fit(X_train, y_train)"
   ]
  },
  {
   "cell_type": "code",
   "execution_count": 89,
   "metadata": {},
   "outputs": [],
   "source": [
    "# Function to recommend movies based on other users' high ratings and specific emotion\n",
    "def recommend_movies_based_on_other_users_high_ratings(user_id, emotion, n_movies=5):\n",
    "    \n",
    "    high_rated_movies = users_data2[users_data2['rating'] >= 4]\n",
    "    emotion_movies = combined_movie_data2[combined_movie_data2['emotion'].str.contains(emotion, case=False)]\n",
    "    high_rated_emotion_movies = high_rated_movies[high_rated_movies['movie_id'].isin(emotion_movies['movie_id'])]\n",
    "\n",
    "    high_rated_emotion_movies = high_rated_emotion_movies[high_rated_emotion_movies['user_id'] != user_id]\n",
    "\n",
    "    predictions = []\n",
    "    for _, movie_row in high_rated_emotion_movies.iterrows():\n",
    "        movie_id = movie_row['movie_id']\n",
    "        if movie_id in movie_id_to_vector:\n",
    "            movie_feature = movie_id_to_vector[movie_id]\n",
    "            user_feature = np.array([average_ratings.get(user_id, 0), 0])  \n",
    "            feature_vector = np.concatenate((user_feature, movie_feature)).reshape(1, -1)\n",
    "            predicted_like = model.predict_proba(feature_vector)[0][1]\n",
    "            movie_title = combined_movie_data2[combined_movie_data2['movie_id'] == movie_id]['title'].iloc[0]\n",
    "            predictions.append((movie_title, predicted_like))\n",
    "\n",
    "    predictions.sort(key=lambda x: x[1], reverse=True)\n",
    "    return predictions[:n_movies]\n"
   ]
  },
  {
   "cell_type": "code",
   "execution_count": 100,
   "metadata": {},
   "outputs": [
    {
     "name": "stdout",
     "output_type": "stream",
     "text": [
      "Movie: Blonde Ambition ----------------------------- Predicted Preference: 0.88\n",
      "Movie: Just Go with It ----------------------------- Predicted Preference: 0.87\n",
      "Movie: Raising Helen ----------------------------- Predicted Preference: 0.87\n",
      "Movie: I Married a Strange Person! ----------------------------- Predicted Preference: 0.85\n",
      "Movie: The Sentinel ----------------------------- Predicted Preference: 0.84\n"
     ]
    }
   ],
   "source": [
    "recommended_movies = recommend_movies_based_on_other_users_high_ratings('user_id_8', 'Joy')\n",
    "for movie, score in recommended_movies:\n",
    "    print(f\"Movie: {movie} ----------------------------- Predicted Preference: {score}\")\n"
   ]
  }
 ],
 "metadata": {
  "kernelspec": {
   "display_name": "Python 3",
   "language": "python",
   "name": "python3"
  },
  "language_info": {
   "codemirror_mode": {
    "name": "ipython",
    "version": 3
   },
   "file_extension": ".py",
   "mimetype": "text/x-python",
   "name": "python",
   "nbconvert_exporter": "python",
   "pygments_lexer": "ipython3",
   "version": "3.11.1"
  }
 },
 "nbformat": 4,
 "nbformat_minor": 2
}
